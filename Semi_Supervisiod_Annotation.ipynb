{
 "cells": [
  {
   "cell_type": "markdown",
   "metadata": {
    "id": "XW2AfMTxnT8J"
   },
   "source": [
    "## Loading a model from a check-point and defining the detection function"
   ]
  },
  {
   "cell_type": "code",
   "execution_count": 1,
   "metadata": {
    "id": "oT3YIZpWmqOx"
   },
   "outputs": [],
   "source": [
    "import os\n",
    "import tensorflow as tf\n",
    "from object_detection.utils import label_map_util\n",
    "from object_detection.utils import visualization_utils as viz_utils\n",
    "from object_detection.builders import model_builder\n",
    "from object_detection.utils import config_util"
   ]
  },
  {
   "cell_type": "code",
   "execution_count": 2,
   "metadata": {
    "id": "Y6EO-q0anpTK"
   },
   "outputs": [],
   "source": [
    "config_path=r\"C:\\Tensor_Flow\\Final_Thesis\\drive\\MyDrive\\models\\Near_Final_resized_800\\my_ssd_mobnet\\pipeline.config\"\n",
    "# Load pipeline config and build a detection model\n",
    "configs = config_util.get_configs_from_pipeline_file(config_path)\n",
    "detection_model = model_builder.build(model_config=configs['model'], is_training=False)\n",
    "\n",
    "# Restore checkpoint\n",
    "ckpt_path=r\"C:\\Tensor_Flow\\Final_Thesis\\drive\\MyDrive\\models\\Near_Final_resized_800\\my_ssd_mobnet\"\n",
    "ckpt = tf.compat.v2.train.Checkpoint(model=detection_model)\n",
    "ckpt.restore(os.path.join(ckpt_path, 'ckpt-41')).expect_partial()\n",
    "\n",
    "@tf.function\n",
    "def detect_fn(image):\n",
    "    image, shapes = detection_model.preprocess(image)\n",
    "    prediction_dict = detection_model.predict(image, shapes)\n",
    "    detections = detection_model.postprocess(prediction_dict, shapes)\n",
    "    return detections"
   ]
  },
  {
   "cell_type": "code",
   "execution_count": 4,
   "metadata": {},
   "outputs": [],
   "source": [
    "#define the path in which your photos are located\n",
    "rout_path=r\"C:\\Users\\Admin\\Desktop\\Mostafa_F\\drugs_camera\"\n",
    "#define the path in which your 'label_map.pbtxt' are located\n",
    "label_map_path=os.path.join(rout_path, 'label_map.pbtxt')\n",
    "category_index = label_map_util.create_category_index_from_labelmap(label_map_path)"
   ]
  },
  {
   "cell_type": "markdown",
   "metadata": {
    "id": "Zjx3ZN0hnssB"
   },
   "source": [
    "## Using the detection function to produce bounding boxes in the pictures."
   ]
  },
  {
   "cell_type": "code",
   "execution_count": 5,
   "metadata": {
    "id": "IDpAVPBkohUx"
   },
   "outputs": [],
   "source": [
    "import xml.etree.ElementTree as ET\n",
    "import copy\n",
    "import math\n",
    "import pandas as pd\n",
    "import glob as glob\n",
    "import cv2\n",
    "import numpy as np"
   ]
  },
  {
   "cell_type": "code",
   "execution_count": 7,
   "metadata": {
    "id": "fldTWSLCokGZ"
   },
   "outputs": [],
   "source": [
    "#Define the minimum probability of being an object to draw a box around it\n",
    "Threshold=0.3\n",
    "#Define the directory in which your pictures are located\n",
    "IMAGE_PATH = os.path.join(rout_path, '*.jpg')\n",
    "#Define the directory in which your example annotation \"xml\" file is located\n",
    "path=r\"C:\\Users\\Admin\\Desktop\\Mostafa_F\\drugs_camera\\example.xml\"\n",
    "for file in glob.glob(IMAGE_PATH):\n",
    "    img = cv2.imread(file)\n",
    "    image_np = np.array(img)\n",
    "    input_tensor = tf.convert_to_tensor(np.expand_dims(image_np, 0), dtype=tf.float32)\n",
    "    detections = detect_fn(input_tensor)\n",
    "    num_detections = int(detections.pop('num_detections'))\n",
    "    detections = {key: value[0, :num_detections].numpy()\n",
    "                for key, value in detections.items()}\n",
    "    detections['num_detections'] = num_detections\n",
    "    detection_scores_pd=pd.DataFrame(detections['detection_scores'],columns = ['score'])\n",
    "    detection_boxes_pd=pd.DataFrame(detections['detection_boxes'],columns = ['xmin','ymin','xmax','ymax'])\n",
    "    detection_classes_pd=pd.DataFrame(detections['detection_classes'],columns = ['class'])\n",
    "    detection_scores_pd.rename({0: \"Score\"}, axis=1)\n",
    "    detection_data=pd.concat([detection_boxes_pd,detection_scores_pd],axis=1)\n",
    "    detection_data=pd.concat([detection_data,detection_classes_pd],axis=1)\n",
    "    #The minimum score threshold is defined here\n",
    "    detection_data_thresholded=detection_data[detection_data[\"score\"]>Threshold]\n",
    "    #import xml file\n",
    "    tree = ET.parse(path)\n",
    "    root = tree.getroot()\n",
    "    tree_dupe=copy.deepcopy(tree)\n",
    "    elems = tree.findall(\".//filename\")\n",
    "    for elem in elems:\n",
    "        elem.text = os.path.basename(IMAGE_PATH[0:-4])+'.jpg'\n",
    "    elems = tree.findall(\".//object\")\n",
    "    #elems.pop()\n",
    "    for elem in elems:\n",
    "        root.remove(elem)\n",
    "        dupe = copy.deepcopy(elem)\n",
    "    tree_dupe=copy.deepcopy(tree)\n",
    "    root_dupe = tree_dupe.getroot()\n",
    "    elems = tree_dupe.findall(\".//object\")\n",
    "    for elem in elems:\n",
    "        root_dupe.remove(elem)\n",
    "    elems = tree_dupe.findall(\".//height\")\n",
    "    for elem in elems:\n",
    "        elem.text = str(img.shape[0])\n",
    "    elems = tree_dupe.findall(\".//width\")\n",
    "    for elem in elems:\n",
    "        elem.text = str(img.shape[1])\n",
    "    for ind in detection_data_thresholded.index:\n",
    "        obj=copy.deepcopy(dupe)\n",
    "        for val in obj.iter('name'):\n",
    "            if detection_data_thresholded['class'][ind]==0.0:\n",
    "                val.text=\"Filled\"\n",
    "            else:\n",
    "                val.text=\"Empty\" \n",
    "        for val in obj.iter('xmin'):\n",
    "            val.text=str(math.floor(img.shape[1]*detection_data_thresholded['ymin'][ind]))\n",
    "        for val in obj.iter('xmax'):\n",
    "            val.text=str(math.floor(img.shape[1]*detection_data_thresholded['ymax'][ind]))\n",
    "        for val in obj.iter('ymin'):\n",
    "            val.text=str(math.floor(img.shape[0]*detection_data_thresholded['xmin'][ind]))\n",
    "        for val in obj.iter('ymax'):\n",
    "            val.text=str(math.floor(img.shape[0]*detection_data_thresholded['xmax'][ind]))\n",
    "        root_dupe.append(obj)\n",
    "    out_path=os.path.join(rout_path,os.path.basename(file[0:-4])+'.xml')\n",
    "    tree_dupe.write(out_path)\n",
    "\n"
   ]
  },
  {
   "cell_type": "markdown",
   "metadata": {
    "id": "GQ35SjlHqZz8"
   },
   "source": [
    "## Install and open labelimg to correct for inaccuracies"
   ]
  },
  {
   "cell_type": "code",
   "execution_count": 1,
   "metadata": {
    "id": "PztFcAsQq84x"
   },
   "outputs": [],
   "source": [
    "import os"
   ]
  },
  {
   "cell_type": "code",
   "execution_count": 2,
   "metadata": {
    "colab": {
     "base_uri": "https://localhost:8080/"
    },
    "id": "A1GSAERFq--w",
    "outputId": "3d875c4a-a17b-4e9c-8b92-00ae2f218a35"
   },
   "outputs": [
    {
     "name": "stdout",
     "output_type": "stream",
     "text": [
      "Collecting pyqt5\n",
      "  Downloading PyQt5-5.15.6-cp36-abi3-manylinux1_x86_64.whl (8.3 MB)\n",
      "\u001b[K     |████████████████████████████████| 8.3 MB 15.6 MB/s \n",
      "\u001b[?25hRequirement already satisfied: lxml in /usr/local/lib/python3.7/dist-packages (4.2.6)\n",
      "Collecting lxml\n",
      "  Downloading lxml-4.6.5-cp37-cp37m-manylinux_2_17_x86_64.manylinux2014_x86_64.manylinux_2_24_x86_64.whl (6.3 MB)\n",
      "\u001b[K     |████████████████████████████████| 6.3 MB 27.6 MB/s \n",
      "\u001b[?25hCollecting PyQt5-sip<13,>=12.8\n",
      "  Downloading PyQt5_sip-12.9.0-cp37-cp37m-manylinux1_x86_64.whl (317 kB)\n",
      "\u001b[K     |████████████████████████████████| 317 kB 62.1 MB/s \n",
      "\u001b[?25hCollecting PyQt5-Qt5>=5.15.2\n",
      "  Downloading PyQt5_Qt5-5.15.2-py3-none-manylinux2014_x86_64.whl (59.9 MB)\n",
      "\u001b[K     |████████████████████████████████| 59.9 MB 1.3 MB/s \n",
      "\u001b[?25hInstalling collected packages: PyQt5-sip, PyQt5-Qt5, pyqt5, lxml\n",
      "  Attempting uninstall: lxml\n",
      "    Found existing installation: lxml 4.2.6\n",
      "    Uninstalling lxml-4.2.6:\n",
      "      Successfully uninstalled lxml-4.2.6\n",
      "Successfully installed PyQt5-Qt5-5.15.2 PyQt5-sip-12.9.0 lxml-4.6.5 pyqt5-5.15.6\n"
     ]
    }
   ],
   "source": [
    "!pip install --upgrade pyqt5 lxml\n"
   ]
  },
  {
   "cell_type": "code",
   "execution_count": 3,
   "metadata": {
    "id": "iw1FjkMhrEFR"
   },
   "outputs": [],
   "source": [
    "LABELIMG_PATH = r\"C:\\Tensor Flow for object detection\\Tensorflow\\labelimg\""
   ]
  },
  {
   "cell_type": "code",
   "execution_count": 4,
   "metadata": {
    "colab": {
     "base_uri": "https://localhost:8080/"
    },
    "id": "jgnFTxM2rHGR",
    "outputId": "dc7bb47f-1736-4ad3-dadb-d724e01d22bc"
   },
   "outputs": [
    {
     "name": "stdout",
     "output_type": "stream",
     "text": [
      "fatal: Too many arguments.\n",
      "\n",
      "usage: git clone [<options>] [--] <repo> [<dir>]\n",
      "\n",
      "    -v, --verbose         be more verbose\n",
      "    -q, --quiet           be more quiet\n",
      "    --progress            force progress reporting\n",
      "    -n, --no-checkout     don't create a checkout\n",
      "    --bare                create a bare repository\n",
      "    --mirror              create a mirror repository (implies bare)\n",
      "    -l, --local           to clone from a local repository\n",
      "    --no-hardlinks        don't use local hardlinks, always copy\n",
      "    -s, --shared          setup as shared repository\n",
      "    --recurse-submodules[=<pathspec>]\n",
      "                          initialize submodules in the clone\n",
      "    -j, --jobs <n>        number of submodules cloned in parallel\n",
      "    --template <template-directory>\n",
      "                          directory from which templates will be used\n",
      "    --reference <repo>    reference repository\n",
      "    --reference-if-able <repo>\n",
      "                          reference repository\n",
      "    --dissociate          use --reference only while cloning\n",
      "    -o, --origin <name>   use <name> instead of 'origin' to track upstream\n",
      "    -b, --branch <branch>\n",
      "                          checkout <branch> instead of the remote's HEAD\n",
      "    -u, --upload-pack <path>\n",
      "                          path to git-upload-pack on the remote\n",
      "    --depth <depth>       create a shallow clone of that depth\n",
      "    --shallow-since <time>\n",
      "                          create a shallow clone since a specific time\n",
      "    --shallow-exclude <revision>\n",
      "                          deepen history of shallow clone, excluding rev\n",
      "    --single-branch       clone only one branch, HEAD or --branch\n",
      "    --no-tags             don't clone any tags, and make later fetches not to follow them\n",
      "    --shallow-submodules  any cloned submodules will be shallow\n",
      "    --separate-git-dir <gitdir>\n",
      "                          separate git dir from working tree\n",
      "    -c, --config <key=value>\n",
      "                          set config inside the new repository\n",
      "    -4, --ipv4            use IPv4 addresses only\n",
      "    -6, --ipv6            use IPv6 addresses only\n",
      "    --filter <args>       object filtering\n",
      "\n"
     ]
    }
   ],
   "source": [
    "if not os.path.exists(LABELIMG_PATH):\n",
    "    !mkdir {LABELIMG_PATH}\n",
    "    !git clone https://github.com/tzutalin/labelImg {LABELIMG_PATH}"
   ]
  },
  {
   "cell_type": "code",
   "execution_count": 5,
   "metadata": {
    "colab": {
     "base_uri": "https://localhost:8080/"
    },
    "id": "UJdbHqJxrK3J",
    "outputId": "dbdfd941-08cb-4092-c667-2c150f48c3ed"
   },
   "outputs": [
    {
     "name": "stdout",
     "output_type": "stream",
     "text": [
      "make: *** No rule to make target 'qt5py3'.  Stop.\n"
     ]
    }
   ],
   "source": [
    "if os.name == 'posix':\n",
    "    !make qt5py3\n",
    "if os.name =='nt':\n",
    "    !cd {LABELIMG_PATH} && pyrcc5 -o libs/resources.py resources.qrc"
   ]
  },
  {
   "cell_type": "code",
   "execution_count": 8,
   "metadata": {
    "colab": {
     "base_uri": "https://localhost:8080/"
    },
    "id": "8FQFh__wrMxI",
    "outputId": "8d7ebd85-d191-492b-c435-d21360bdfc0e"
   },
   "outputs": [
    {
     "name": "stderr",
     "output_type": "stream",
     "text": [
      "The system cannot find the path specified.\n"
     ]
    }
   ],
   "source": [
    "!cd {LABELIMG_PATH} && python labelImg.py"
   ]
  },
  {
   "cell_type": "code",
   "execution_count": null,
   "metadata": {
    "id": "a2P1dRcXrR7n"
   },
   "outputs": [],
   "source": []
  }
 ],
 "metadata": {
  "colab": {
   "collapsed_sections": [],
   "name": "Semi_Supervisiod_Annotation.ipynb",
   "provenance": []
  },
  "kernelspec": {
   "display_name": "tfodj",
   "language": "python",
   "name": "tfodj"
  },
  "language_info": {
   "codemirror_mode": {
    "name": "ipython",
    "version": 3
   },
   "file_extension": ".py",
   "mimetype": "text/x-python",
   "name": "python",
   "nbconvert_exporter": "python",
   "pygments_lexer": "ipython3",
   "version": "3.7.1"
  }
 },
 "nbformat": 4,
 "nbformat_minor": 1
}
